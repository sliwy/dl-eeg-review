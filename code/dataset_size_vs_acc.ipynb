{
 "cells": [
  {
   "cell_type": "code",
   "execution_count": 1,
   "id": "605e6232",
   "metadata": {},
   "outputs": [],
   "source": [
    "\"\"\"Script to generate the results for the literature review.\n",
    "\"\"\"\n",
    "\n",
    "import utils as ut\n",
    "import analysis as anl\n",
    "\n",
    "df = ut.load_data_items()\n",
    "results_df = ut.load_reported_results_data()\n",
    "ut.check_data_items(df)\n"
   ]
  },
  {
   "cell_type": "code",
   "execution_count": 2,
   "id": "d1cdeb98",
   "metadata": {},
   "outputs": [],
   "source": [
    "import os\n",
    "import logging\n",
    "import logging.config\n",
    "from collections import OrderedDict\n",
    "import subprocess\n",
    "\n",
    "import pandas as pd\n",
    "# import geopandas as gpd\n",
    "import matplotlib.pyplot as plt\n",
    "from matplotlib.ticker import MaxNLocator\n",
    "import matplotlib.patches as patches\n",
    "import matplotlib as mpl\n",
    "import seaborn as sns\n",
    "import numpy as np\n",
    "from PIL import Image\n"
   ]
  },
  {
   "cell_type": "code",
   "execution_count": 3,
   "id": "28c795d8",
   "metadata": {},
   "outputs": [
    {
     "name": "stderr",
     "output_type": "stream",
     "text": [
      "/home/maciej/src/dl-eeg-review/code/utils.py:106: UserWarning: 1 rows had incompatible numbers of elements in the columns of interest and were dropped:\n",
      "  warnings.warn('{} rows had incompatible numbers of elements in the '\n",
      "/home/maciej/src/dl-eeg-review/code/utils.py:110: UserWarning: \tMorabito2016\n",
      "  warnings.warn('\\t{}'.format(df.iloc[i].loc['Citation']))\n",
      "/tmp/ipykernel_74404/685501953.py:25: SettingWithCopyWarning: \n",
      "A value is trying to be set on a copy of a slice from a DataFrame.\n",
      "Try using .loc[row_indexer,col_indexer] = value instead\n",
      "\n",
      "See the caveats in the documentation: https://pandas.pydata.org/pandas-docs/stable/user_guide/indexing.html#returning-a-view-versus-a-copy\n",
      "  acc_df.loc[:, 'citation_task'] = acc_df[['Citation', 'Task']].apply(\n",
      "/tmp/ipykernel_74404/685501953.py:29: SettingWithCopyWarning: \n",
      "A value is trying to be set on a copy of a slice from a DataFrame.\n",
      "Try using .loc[row_indexer,col_indexer] = value instead\n",
      "\n",
      "See the caveats in the documentation: https://pandas.pydata.org/pandas-docs/stable/user_guide/indexing.html#returning-a-view-versus-a-copy\n",
      "  acc_df.loc[:, 'year'] = acc_df['Citation'].apply(\n"
     ]
    }
   ],
   "source": [
    "data_df = ut.split_column_with_multiple_entries(\n",
    "    df, ['Data - samples', 'Data - time'], ref_col=['Citation', 'Main domain', 'Features (clean)'], \n",
    "    sep=';\\n', lower=False)\n",
    "\n",
    "# Remove N/M and TBD\n",
    "col = 'Data - samples'\n",
    "data_df.loc[data_df[col].isin(['N/M', 'TBD', '[TBD]']), col] = np.nan\n",
    "data_df[col] = data_df[col].astype(float)\n",
    "\n",
    "col2 = 'Data - time'\n",
    "data_df.loc[data_df[col2].isin(['N/M', 'TBD', '[TBD]']), col2] = np.nan\n",
    "data_df[col2] = data_df[col2].astype(float)\n",
    "\n",
    "# Wrap main domain text\n",
    "data_df['Main domain'] = data_df['Main domain'].apply(\n",
    "    ut.wrap_text, max_char=13)\n",
    "\n",
    "# Extract ratio\n",
    "data_df['data_ratio'] = data_df['Data - samples'] / data_df['Data - time']\n",
    "data_df = data_df.sort_values(['Main domain', 'data_ratio'])\n",
    "\n",
    "acc_df = results_df[results_df['Metric'] == 'accuracy']  # Extract accuracy rows only\n",
    "\n",
    "# Create new column that contains both citation and task information\n",
    "acc_df.loc[:, 'citation_task'] = acc_df[['Citation', 'Task']].apply(\n",
    "    lambda x: ' ['.join(x) + ']', axis=1)\n",
    "\n",
    "# Create a new column with the year\n",
    "acc_df.loc[:, 'year'] = acc_df['Citation'].apply(\n",
    "    lambda x: int(x[x.find('2'):x.find('2') + 4]))\n",
    "\n",
    "acc_df_best_proposed = acc_df[acc_df['model_type'] == 'Proposed'].sort_values('Result', ascending=False).drop_duplicates('Citation')\n",
    "acc_df_best_baseline_trad = acc_df[acc_df['model_type'] == 'Baseline (traditional)'].sort_values('Result', ascending=False).drop_duplicates('Citation')\n",
    "\n",
    "acc_df_best_proposed = acc_df_best_proposed[acc_df_best_proposed['Citation'].isin(acc_df_best_baseline_trad['Citation'])]\n",
    "acc_df_best_baseline_trad = acc_df_best_baseline_trad[acc_df_best_baseline_trad['Citation'].isin(acc_df_best_proposed['Citation'])]\n",
    "\n",
    "acc_df_best_proposed = acc_df_best_proposed.sort_values('Citation')\n",
    "acc_df_best_baseline_trad = acc_df_best_baseline_trad.sort_values('Citation')\n",
    "acc_df_best_baseline_trad.index = acc_df_best_baseline_trad['Citation']\n",
    "acc_df_best_proposed.index = acc_df_best_proposed['Citation']\n",
    "\n",
    "acc_diff = pd.DataFrame({\n",
    "    'Difference': acc_df_best_proposed['Result'] - acc_df_best_baseline_trad['Result'],\n",
    "    'Citation': acc_df_best_baseline_trad.index\n",
    "}).reset_index(drop=True)\n",
    "acc_diff = acc_diff[acc_diff['Difference'] < 0.7]\n",
    "\n",
    "data_df = pd.merge(data_df, acc_diff, on='Citation')\n",
    "data_df = data_df.dropna()"
   ]
  },
  {
   "cell_type": "code",
   "execution_count": 4,
   "id": "1e9f2b1a",
   "metadata": {},
   "outputs": [],
   "source": [
    "# import config as cfg\n",
    "# import utils as ut\n",
    "\n",
    "\n",
    "# # Set style, context and palette\n",
    "# sns.set_style(rc=cfg.axes_styles)\n",
    "# sns.set_context(rc=cfg.plotting_context)\n",
    "# sns.set_palette(cfg.palette)\n",
    "\n",
    "# for key, val in cfg.axes_styles.items():\n",
    "#     mpl.rcParams[key] = val\n",
    "# for key, val in cfg.plotting_context.items():\n",
    "#     mpl.rcParams[key] = val"
   ]
  },
  {
   "cell_type": "code",
   "execution_count": 5,
   "id": "28a2bba0",
   "metadata": {},
   "outputs": [],
   "source": [
    "# save_cfg = cfg.saving_config"
   ]
  },
  {
   "cell_type": "code",
   "execution_count": 4,
   "id": "452d30e7",
   "metadata": {},
   "outputs": [],
   "source": [
    "%matplotlib inline"
   ]
  },
  {
   "cell_type": "code",
   "execution_count": 5,
   "id": "647aa98e",
   "metadata": {},
   "outputs": [],
   "source": [
    "from scipy.stats import binned_statistic"
   ]
  },
  {
   "cell_type": "code",
   "execution_count": 25,
   "id": "166d6c54",
   "metadata": {},
   "outputs": [
    {
     "data": {
      "image/png": "[encoded data removed]",
      "text/plain": [
       "<Figure size 720x216 with 2 Axes>"
      ]
     },
     "metadata": {
      "needs_background": "light"
     },
     "output_type": "display_data"
    }
   ],
   "source": [
    "fig, axes = plt.subplots(\n",
    "    ncols=2, figsize=(10, 3))\n",
    "#     figsize=(save_cfg['text_width'], save_cfg['text_height'] / 3))\n",
    "# axes = [axes]\n",
    "\n",
    "axes[0].set(xscale='log', yscale='linear')\n",
    "\n",
    "for features, marker in zip([['Frequency-domain'], ['Raw EEG']], ['o', 'D']):\n",
    "    \n",
    "    x = pd.Series(binned_statistic(\n",
    "        np.log10(data_df[data_df['Features (clean)'].isin(features)][col2]),\n",
    "        np.log10(data_df[data_df['Features (clean)'].isin(features)][col2]),\n",
    "        statistic=\"mean\", bins=5)[0]).dropna()\n",
    "    x = np.power(10, x)\n",
    "    y = pd.Series(binned_statistic(\n",
    "        np.log10(data_df[data_df['Features (clean)'].isin(features)][col2]),\n",
    "        data_df[data_df['Features (clean)'].isin(features)]['Difference'],\n",
    "        statistic=\"mean\", bins=5)[0]).dropna()\n",
    "    axes[0].plot(x, y, f'{marker}-', label=features[0])\n",
    "axes[0].legend()\n",
    "max_val = int(np.ceil(np.log10(data_df[col2].max())))\n",
    "axes[0].set_xticks(np.power(10, range(0, max_val + 1)))\n",
    "axes[0].set_xlabel('Recording time (min)')\n",
    "axes[0].set_ylabel('Accuracy difference')\n",
    "\n",
    "axes[1].set(xscale='log', yscale='linear')\n",
    "\n",
    "for features, marker in zip([['Frequency-domain'], ['Raw EEG']], ['o', 'D']):\n",
    "    \n",
    "    x = pd.Series(binned_statistic(\n",
    "        np.log10(data_df[data_df['Features (clean)'].isin(features)][col]),\n",
    "        np.log10(data_df[data_df['Features (clean)'].isin(features)][col]),\n",
    "        statistic=\"mean\", bins=5)[0]).dropna()\n",
    "    x = np.power(10, x)\n",
    "    y = pd.Series(binned_statistic(\n",
    "        np.log10(data_df[data_df['Features (clean)'].isin(features)][col]),\n",
    "        data_df[data_df['Features (clean)'].isin(features)]['Difference'],\n",
    "        statistic=\"mean\", bins=5)[0]).dropna()\n",
    "    axes[1].plot(x, y, f'{marker}-', label=features[0])\n",
    "axes[1].legend()\n",
    "min_val = int(np.floor(np.log10(x.min())))\n",
    "max_val = int(np.ceil(np.log10(x.max())))\n",
    "axes[1].set_xticks(np.power(10, range(min_val, max_val + 1)))\n",
    "axes[1].set_xlabel('Number of examples')\n",
    "plt.savefig('../figs/dataset_size_vs_acc.png', dpi=350)"
   ]
  },
  {
   "cell_type": "code",
   "execution_count": null,
   "id": "d4352065",
   "metadata": {},
   "outputs": [],
   "source": []
  }
 ],
 "metadata": {
  "kernelspec": {
   "display_name": "Python 3 (ipykernel)",
   "language": "python",
   "name": "python3"
  },
  "language_info": {
   "codemirror_mode": {
    "name": "ipython",
    "version": 3
   },
   "file_extension": ".py",
   "mimetype": "text/x-python",
   "name": "python",
   "nbconvert_exporter": "python",
   "pygments_lexer": "ipython3",
   "version": "3.9.13"
  }
 },
 "nbformat": 4,
 "nbformat_minor": 5
}
